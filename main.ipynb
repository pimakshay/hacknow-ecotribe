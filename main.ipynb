{
 "cells": [
  {
   "cell_type": "code",
   "execution_count": 4,
   "metadata": {},
   "outputs": [],
   "source": [
    "from langchain_openai import AzureChatOpenAI\n",
    "\n",
    "llm = AzureChatOpenAI(\n",
    "    api_key=\"b36879e47f2d42109a3d54edb22f78c3\",\n",
    "    azure_endpoint=\"https://ecotribe.openai.azure.com/openai/deployments/Chat/chat/completions?api-version=2024-02-15-preview\",\n",
    "    api_version=\"2024-02-15-preview\",\n",
    "    model=\"gpt-4o-2024-08-06\",\n",
    "    temperature=0,\n",
    "    max_tokens=None,\n",
    ")"
   ]
  },
  {
   "cell_type": "code",
   "execution_count": 5,
   "metadata": {},
   "outputs": [],
   "source": [
    "from langchain_core.prompts import ChatPromptTemplate\n",
    "from langchain_core.output_parsers import JsonOutputParser\n",
    "import base64\n",
    "from io import BytesIO\n",
    "\n",
    "def image_to_base64(image_path):\n",
    "    with open(image_path, \"rb\") as image_file:\n",
    "        return base64.b64encode(image_file.read()).decode('utf-8')\n",
    "\n",
    "image_path=\"/home/akshay/Documents/conxai/Hacknow_SickAG/hacknow-ecotribe/apple_rotten.jpg\"\n",
    "image_base64 = image_to_base64(image_path)\n",
    "prompt = ChatPromptTemplate.from_messages([\n",
    "            (\"system\", '''You are an expert at detecting the type of fruits, and their qualities from an input image. These qualities include color, and surface texture. You also identify if there is any mould, and if the fruit is defective.\n",
    "        The input images can include images of fresh, semi-ripen, fully-ripen, or rotten fruits.\n",
    "        Your task is to return a json object with following keys:\n",
    "        {{\n",
    "        \"object_name\": str, # name of the fruit\n",
    "        \"color\": str, # color of the fruit\n",
    "        \"surface_texture\": str, # texture of the surface: [\"smooth\", \"rough\", \"fuzzy\", \"wrinkled\", \"bumpy\", \"waxy\", \"spiky\", \"dimpled\"] \n",
    "        \"has_mould_spot\": str, # yes or no\n",
    "        \"shape\": str # options: [\"normal\", \"distorted\", \"swollen\", \"shriveled\"]\n",
    "        }}\n",
    "     \n",
    "     These information would help the user to identify if the fruit is fresh, partially-ripen, fully-ripen, partially-rotten, or fully-roten.\n",
    "     '''),\n",
    "    (\"human\", \"Please analyze this fruit image and return JSON object as mentioned in the instructions.\"),\n",
    "    (\"human\", f\"![fruit_image](data:image/jpeg;base64,{image_base64})\")\n",
    "])\n",
    "\n",
    "output_parser = JsonOutputParser()\n",
    "\n",
    "response = llm.invoke(prompt.format(), response_format={\"type\": \"json_object\"})"
   ]
  },
  {
   "cell_type": "code",
   "execution_count": 6,
   "metadata": {},
   "outputs": [
    {
     "data": {
      "text/plain": [
       "AIMessage(content='{\\n    \"object_name\": \"Apple\",\\n    \"color\": \"red\",\\n    \"surface_texture\": \"smooth\",\\n    \"has_mould_spot\": \"no\",\\n    \"shape\": \"normal\"\\n}', additional_kwargs={}, response_metadata={'token_usage': {'completion_tokens': 43, 'prompt_tokens': 14605, 'total_tokens': 14648, 'completion_tokens_details': None}, 'model_name': 'gpt-4o-mini', 'system_fingerprint': 'fp_80a1bad4c7', 'prompt_filter_results': [{'prompt_index': 0, 'content_filter_results': {'hate': {'filtered': False, 'severity': 'safe'}, 'jailbreak': {'filtered': False, 'detected': False}, 'self_harm': {'filtered': False, 'severity': 'safe'}, 'sexual': {'filtered': False, 'severity': 'safe'}, 'violence': {'filtered': False, 'severity': 'safe'}}}], 'finish_reason': 'stop', 'logprobs': None, 'content_filter_results': {'hate': {'filtered': False, 'severity': 'safe'}, 'self_harm': {'filtered': False, 'severity': 'safe'}, 'sexual': {'filtered': False, 'severity': 'safe'}, 'violence': {'filtered': False, 'severity': 'safe'}}}, id='run-837066e1-ac10-46ee-a5dd-740b1cfe72e6-0', usage_metadata={'input_tokens': 14605, 'output_tokens': 43, 'total_tokens': 14648})"
      ]
     },
     "execution_count": 6,
     "metadata": {},
     "output_type": "execute_result"
    }
   ],
   "source": [
    "response"
   ]
  },
  {
   "cell_type": "code",
   "execution_count": 1,
   "metadata": {},
   "outputs": [],
   "source": [
    "from backend.utils.workflow_manager import WorkflowManager\n",
    "graph = WorkflowManager().returnGraph()"
   ]
  },
  {
   "cell_type": "code",
   "execution_count": 2,
   "metadata": {},
   "outputs": [],
   "source": [
    "filepath = \"/home/akshay/Documents/conxai/Hacknow_SickAG/hacknow-ecotribe/apple_rotten.jpg\""
   ]
  },
  {
   "cell_type": "code",
   "execution_count": 3,
   "metadata": {},
   "outputs": [
    {
     "data": {
      "text/plain": [
       "{'image_analysis_result': {'object_name': 'Kiwi',\n",
       "  'color': 'green',\n",
       "  'surface_texture': 'fuzzy',\n",
       "  'has_mould_spot': 'no',\n",
       "  'shape': 'normal'},\n",
       " 'hyperspectral_analysis_result': {'has_spoilage': 'yes',\n",
       "  'description': 'The fruit appears to have significant external spoilage, with visible bruising and discoloration. The surface shows signs of rot, indicating that it is partially rotten.'},\n",
       " 'gas_detector_result': {'level_of_ethylene': 'high',\n",
       "  'level_of_CO2': 'normal',\n",
       "  'level_of_methane': 'not_detected',\n",
       "  'level_of_ammonia': 'not_detected',\n",
       "  'level_of_hydrogen_sulfide': 'not_detected'},\n",
       " 'ripen_assessment_result': {'has_ripend': 'yes',\n",
       "  'state': 'full-spoiled',\n",
       "  'description': 'The fruit shows significant external spoilage with visible bruising and discoloration, indicating it is partially rotten. The high level of ethylene suggests advanced spoilage.'},\n",
       " 'defect_assessment_result': {'has_defect': 'yes',\n",
       "  'state': ['bruising', 'rot'],\n",
       "  'description': 'The fruit shows significant external spoilage with visible bruising and discoloration. The surface has signs of rot, indicating that it is partially rotten.'},\n",
       " 'quality_assessment_result': {'quality_standard': 'Below Standard',\n",
       "  'description': 'The fruit shows significant spoilage with visible bruising and rot, making it unsuitable for direct human consumption in fresh form. It may be suitable for processing or animal feed.'},\n",
       " 'decision_support_result': {'discount': None,\n",
       "  'shelf_life': 'Reject',\n",
       "  'recommendation': 'Fruit is below standard and should be discarded'}}"
      ]
     },
     "execution_count": 3,
     "metadata": {},
     "output_type": "execute_result"
    }
   ],
   "source": [
    "graph.invoke({\"image_path\": filepath})"
   ]
  }
 ],
 "metadata": {
  "kernelspec": {
   "display_name": "hacknow",
   "language": "python",
   "name": "python3"
  },
  "language_info": {
   "codemirror_mode": {
    "name": "ipython",
    "version": 3
   },
   "file_extension": ".py",
   "mimetype": "text/x-python",
   "name": "python",
   "nbconvert_exporter": "python",
   "pygments_lexer": "ipython3",
   "version": "3.12.5"
  }
 },
 "nbformat": 4,
 "nbformat_minor": 2
}
