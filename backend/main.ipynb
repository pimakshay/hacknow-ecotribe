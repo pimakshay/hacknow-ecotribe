{
 "cells": [
  {
   "cell_type": "code",
   "execution_count": 1,
   "metadata": {},
   "outputs": [],
   "source": [
    "from langchain_openai import AzureChatOpenAI\n",
    "\n",
    "llm = AzureChatOpenAI(\n",
    "    api_key=\"b36879e47f2d42109a3d54edb22f78c3\",\n",
    "    azure_endpoint=\"https://ecotribe.openai.azure.com/openai/deployments/Chat/chat/completions?api-version=2024-02-15-preview\",\n",
    "    api_version=\"2024-02-15-preview\",\n",
    "    model=\"gpt-4o-2024-08-06\",\n",
    "    temperature=0,\n",
    "    max_tokens=None,\n",
    ")"
   ]
  },
  {
   "cell_type": "code",
   "execution_count": 7,
   "metadata": {},
   "outputs": [],
   "source": [
    "from langchain_core.prompts import ChatPromptTemplate\n",
    "from langchain_core.output_parsers import JsonOutputParser\n",
    "import base64\n",
    "from io import BytesIO\n",
    "\n",
    "def image_to_base64(image_path):\n",
    "    with open(image_path, \"rb\") as image_file:\n",
    "        return base64.b64encode(image_file.read()).decode('utf-8')\n",
    "\n",
    "image_path=\"/home/akshay/Documents/conxai/Hacknow_SickAG/hacknow-ecotribe/apple_rotten.jpg\"\n",
    "image_base64 = image_to_base64(image_path)\n",
    "prompt = ChatPromptTemplate.from_messages([\n",
    "    (\"system\", '''\n",
    "Imagine yourself as a gas detector which can identify if a fruit is releasing any gases which can indicate if it is fresh, ripen or rotten.\n",
    "             Due to unavailability of gas detector sensors, you will be given an image as input, and your job is to guess which gases might have been released.\n",
    "        Your task is to return a json object with following keys:\n",
    "        {{\n",
    "        level_of_ethylene: str # options: [\"excessive\", \"high\", \"normal\", \"not_detected\"]. Excessive means already ripened\n",
    "        level_of_CO2: str # options: [\"excessive\", \"high\", \"normal\", \"not_detected\"]. Spike in CO2 indicates reduced shelf life\n",
    "        level_of_methane: str # options: [\"excessive\", \"high\", \"normal\", \"not_detected\"]. If methane detected, fruit is spoiled\n",
    "        level_of_ammonia: str # option: [\"excessive\", \"high\", \"normal\", \"not_detected\"]. The presence of ammonia indicates significant spoilage and bacterial activity.\n",
    "        level_of_hydrogenSulfide: str # option: [\"excessive\", \"high\", \"normal\", \"not_detected\"]\n",
    "             }}\n",
    "     \n",
    "     Be creative with the responses as these information would help the user to identify if the fruit is fresh, partially-ripen, fully-ripen, partially-rotten, or fully-roten.\n",
    "    '''),\n",
    "    (\"human\", \"Please analyze this fruit image and return only JSON object as mentioned in the instructions. Reevaluate again if you are returning only JSON object or not.\"),\n",
    "    (\"human\", f\"![fruit_image](data:image/jpeg;base64,{image_base64})\")\n",
    "\n",
    "])\n",
    "\n",
    "output_parser = JsonOutputParser()\n",
    "\n",
    "response = llm.invoke(prompt.format(), response_format={\"type\": \"json_object\"})"
   ]
  },
  {
   "cell_type": "code",
   "execution_count": 5,
   "metadata": {},
   "outputs": [
    {
     "data": {
      "text/plain": [
       "AIMessage(content='{\\n    \"has_spoilage\": \"yes\",\\n    \"description\": \"The fruit shows signs of external spoilage with visible bruising and discoloration. The extent of spoilage appears moderate, indicating that the fruit is partially rotten.\"\\n}', additional_kwargs={}, response_metadata={'token_usage': {'completion_tokens': 49, 'prompt_tokens': 14541, 'total_tokens': 14590, 'completion_tokens_details': None}, 'model_name': 'gpt-4o-mini', 'system_fingerprint': 'fp_80a1bad4c7', 'prompt_filter_results': [{'prompt_index': 0, 'content_filter_results': {'hate': {'filtered': False, 'severity': 'safe'}, 'jailbreak': {'filtered': False, 'detected': False}, 'self_harm': {'filtered': False, 'severity': 'safe'}, 'sexual': {'filtered': False, 'severity': 'safe'}, 'violence': {'filtered': False, 'severity': 'safe'}}}], 'finish_reason': 'stop', 'logprobs': None, 'content_filter_results': {'hate': {'filtered': False, 'severity': 'safe'}, 'self_harm': {'filtered': False, 'severity': 'safe'}, 'sexual': {'filtered': False, 'severity': 'safe'}, 'violence': {'filtered': False, 'severity': 'safe'}}}, id='run-fd488f8d-bbf2-462a-bbd6-4248506d968c-0', usage_metadata={'input_tokens': 14541, 'output_tokens': 49, 'total_tokens': 14590})"
      ]
     },
     "execution_count": 5,
     "metadata": {},
     "output_type": "execute_result"
    }
   ],
   "source": [
    "response"
   ]
  },
  {
   "cell_type": "code",
   "execution_count": 12,
   "metadata": {},
   "outputs": [
    {
     "data": {
      "text/plain": [
       "'{  \"object_name\": \"apple\",  \"color\": \"red\",  \"surface_texture\": \"smooth\",  \"has_mould_spot\": \"no\",  \"shape\": \"normal\"}'"
      ]
     },
     "execution_count": 12,
     "metadata": {},
     "output_type": "execute_result"
    }
   ],
   "source": [
    "fix_json(response.content)"
   ]
  },
  {
   "cell_type": "code",
   "execution_count": 8,
   "metadata": {},
   "outputs": [
    {
     "data": {
      "text/plain": [
       "{'level_of_ethylene': 'high',\n",
       " 'level_of_CO2': 'normal',\n",
       " 'level_of_methane': 'not_detected',\n",
       " 'level_of_ammonia': 'not_detected',\n",
       " 'level_of_hydrogenSulfide': 'not_detected'}"
      ]
     },
     "execution_count": 8,
     "metadata": {},
     "output_type": "execute_result"
    }
   ],
   "source": [
    "output_parser = JsonOutputParser()\n",
    "output_parser.parse(response.content)"
   ]
  }
 ],
 "metadata": {
  "kernelspec": {
   "display_name": "hacknow",
   "language": "python",
   "name": "python3"
  },
  "language_info": {
   "codemirror_mode": {
    "name": "ipython",
    "version": 3
   },
   "file_extension": ".py",
   "mimetype": "text/x-python",
   "name": "python",
   "nbconvert_exporter": "python",
   "pygments_lexer": "ipython3",
   "version": "3.12.5"
  }
 },
 "nbformat": 4,
 "nbformat_minor": 2
}
